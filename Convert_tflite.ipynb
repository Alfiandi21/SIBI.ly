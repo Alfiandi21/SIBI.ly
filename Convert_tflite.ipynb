{
  "nbformat": 4,
  "nbformat_minor": 0,
  "metadata": {
    "colab": {
      "provenance": []
    },
    "kernelspec": {
      "name": "python3",
      "display_name": "Python 3"
    },
    "language_info": {
      "name": "python"
    }
  },
  "cells": [
    {
      "cell_type": "code",
      "execution_count": null,
      "metadata": {
        "id": "sL-HGHnAicNt"
      },
      "outputs": [],
      "source": [
        "from google.colab import drive\n",
        "drive.mount('/content/drive')"
      ]
    },
    {
      "cell_type": "code",
      "source": [
        "import tensorflow as tf\n",
        "\n",
        "# Load the .h5 model\n",
        "model = tf.keras.models.load_model('/content/drive/My Drive/Bangkit/Capstone/SIBI.ly - Final/model_sibi_final.h5')\n",
        "\n",
        "# Save the model in SavedModel format\n",
        "saved_model_dir = '/content/drive/My Drive/Bangkit/Capstone/SIBI.ly - Final/saved_model'\n",
        "model.save(saved_model_dir)\n",
        "\n",
        "# Convert the model\n",
        "converter = tf.lite.TFLiteConverter.from_saved_model(saved_model_dir)\n",
        "tflite_model = converter.convert()\n",
        "\n",
        "# Save the TFLite model\n",
        "tflite_model_path = '/content/drive/My Drive/Bangkit/Capstone/SIBI.ly - Final/model_unquant.tflite'\n",
        "with open(tflite_model_path, 'wb') as f:\n",
        "    f.write(tflite_model)\n"
      ],
      "metadata": {
        "id": "vt_MZOjxidW8"
      },
      "execution_count": null,
      "outputs": []
    }
  ]
}